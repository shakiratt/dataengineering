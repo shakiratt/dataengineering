{
 "cells": [
  {
   "cell_type": "code",
   "execution_count": 1,
   "id": "df359d27-28ae-4678-982e-8a399c26ad40",
   "metadata": {},
   "outputs": [
    {
     "name": "stdout",
     "output_type": "stream",
     "text": [
      "Requirement already satisfied: psycopg2 in c:\\users\\hp\\anaconda3\\lib\\site-packages (2.9.10)\n",
      "Note: you may need to restart the kernel to use updated packages.\n"
     ]
    }
   ],
   "source": [
    "pip install psycopg2"
   ]
  },
  {
   "cell_type": "code",
   "execution_count": null,
   "id": "01647890-d542-42fe-a560-f6b9d3391412",
   "metadata": {},
   "outputs": [],
   "source": []
  },
  {
   "cell_type": "code",
   "execution_count": 8,
   "id": "16a4593f-b8d9-472e-8d9e-deafaaea5ac8",
   "metadata": {},
   "outputs": [],
   "source": [
    "import http.client\n",
    "import json\n",
    "import pandas as pd\n",
    "import csv\n",
    "import psycopg2"
   ]
  },
  {
   "cell_type": "code",
   "execution_count": 50,
   "id": "90115460-9220-462b-8715-1cba5ba48a4b",
   "metadata": {},
   "outputs": [
    {
     "name": "stdout",
     "output_type": "stream",
     "text": [
      "[{'bathrooms': 3, 'bedrooms': 4, 'squareFootage': 4010, 'county': 'Monmouth', 'propertyType': 'Land', 'addressLine1': '104 Peskin Rd', 'city': 'Farmingdale', 'state': 'NJ', 'zipCode': '07727', 'formattedAddress': '104 Peskin Rd, Farmingdale, NJ 07727', 'lotSize': 204732, 'yearBuilt': 1940, 'features': {'architectureType': 'Colonial', 'cooling': True, 'coolingType': 'Commercial', 'exteriorType': 'Aluminum / Vinyl Siding', 'fireplace': True, 'floorCount': 2, 'foundationType': 'Block', 'garage': True, 'garageType': 'Detached', 'heating': True, 'heatingType': 'Forced Air', 'roofType': 'Shingle', 'roomCount': 10, 'unitCount': 1}, 'assessorID': '21  00154-0000-00006', 'legalDescription': 'LOT:6 BLK:154 DIST:21 CITY/MUNI/TWP:HOWELL TWP MAP REF:TAX MAP 6.17', 'subdivision': 'TOWNSHIP/HOWELL', 'zoning': 'ARE2', 'taxAssessment': {'2023': {'value': 646200, 'land': 206600, 'improvements': 439600}}, 'propertyTaxes': {'2022': {'total': 11781}}, 'lastSalePrice': 750000, 'lastSaleDate': '2023-05-26T00:00:00.000Z', 'ownerOccupied': False, 'owner': {'names': ['AVB INVESTMENT LLC'], 'mailingAddress': {'id': '431-Princeton-Ave,-Brick,-NJ-08724', 'formattedAddress': '431 Princeton Ave, Brick, NJ 08724', 'addressLine1': '431 Princeton Ave', 'city': 'Brick', 'state': 'NJ', 'zipCode': '08724'}}, 'id': '104-Peskin-Rd,-Farmingdale,-NJ-07727', 'longitude': -74.205703, 'latitude': 40.18568}, {'addressLine1': '28 Gould Ave', 'city': 'Council Bluffs', 'state': 'IA', 'zipCode': '51503', 'formattedAddress': '28 Gould Ave, Council Bluffs, IA 51503', 'bedrooms': 3, 'squareFootage': 976, 'yearBuilt': 1975, 'county': 'Pottawattamie', 'assessorID': '7543 30 451 005', 'legalDescription': 'MORNINGSIDE ADD LT 2 BLK 1 & VAC ALLEY ADJ', 'subdivision': 'MORNINGSIDE ADDITION', 'zoning': 'R-1', 'ownerOccupied': True, 'bathrooms': 2, 'lotSize': 6098, 'propertyType': 'Single Family', 'lastSalePrice': 172000, 'lastSaleDate': '2019-10-09T00:00:00.000Z', 'features': {'architectureType': 'Split Foyer', 'exteriorType': 'Wood', 'fireplace': True, 'fireplaceType': 'Masonry', 'roofType': 'Asphalt', 'roomCount': 5, 'floorCount': 1, 'foundationType': 'OTHER'}, 'taxAssessment': {'2022': {'value': 162800, 'land': 18900, 'improvements': 143900}, '2023': {'value': 187800, 'land': 19200, 'improvements': 168600}}, 'propertyTaxes': {'2021': {'total': 5853}}, 'owner': {'names': ['James P Starr', 'Jami K Starr'], 'mailingAddress': {'id': '28-Gould-Ave,-Council-Bluffs,-IA-51503', 'formattedAddress': '28 Gould Ave, Council Bluffs, IA 51503', 'addressLine1': '28 Gould Ave', 'city': 'Council Bluffs', 'state': 'IA', 'zipCode': '51503'}, 'type': 'Individual'}, 'id': '28-Gould-Ave,-Council-Bluffs,-IA-51503', 'longitude': -95.830908, 'latitude': 41.26427}, {'bathrooms': 1, 'bedrooms': 3, 'squareFootage': 1182, 'county': 'Greene', 'propertyType': 'Single Family', 'addressLine1': '2028 N East Ave', 'city': 'Springfield', 'state': 'MO', 'zipCode': '65803', 'formattedAddress': '2028 N East Ave, Springfield, MO 65803', 'yearBuilt': 1896, 'assessorID': '1312129018', 'legalDescription': \"HOBART'S ADD LOT 42 BLK 5\", 'subdivision': \"HOBART'S\", 'zoning': 'INC', 'lotSize': 6839, 'lastSaleDate': '2019-12-12T00:00:00.000Z', 'ownerOccupied': False, 'features': {'architectureType': 'Ranch', 'fireplace': True, 'floorCount': 1, 'foundationType': 'Raised', 'roomCount': 5, 'unitCount': 1}, 'taxAssessment': {'2022': {'value': 7170, 'land': 2190, 'improvements': 4980}, '2023': {'value': 7050, 'land': 2190, 'improvements': 4860}, '2024': {'value': 7050, 'land': 2190, 'improvements': 4860}}, 'propertyTaxes': {'2022': {'total': 392}, '2023': {'total': 376}}, 'owner': {'names': ['Steven Illum', 'Eileen S Illum'], 'mailingAddress': {'id': '117-E-Metalwood-Dr,-Republic,-MO-65738', 'formattedAddress': '117 E Metalwood Dr, Republic, MO 65738', 'addressLine1': '117 E Metalwood Dr', 'city': 'Republic', 'state': 'MO', 'zipCode': '65738'}, 'type': 'Individual'}, 'id': '2028-N-East-Ave,-Springfield,-MO-65803', 'longitude': -93.27928, 'latitude': 37.234138}, {'addressLine1': '3318 Tree Terrace Pkwy', 'city': 'Austell', 'state': 'GA', 'zipCode': '30168', 'formattedAddress': '3318 Tree Terrace Pkwy, Austell, GA 30168', 'county': 'Douglas', 'features': {}, 'id': '3318-Tree-Terrace-Pkwy,-Austell,-GA-30168', 'longitude': -84.617041, 'latitude': 33.793601}, {'addressLine1': '1506 Mcdaniel Dr', 'city': 'West Chester', 'state': 'PA', 'zipCode': '19380', 'formattedAddress': '1506 Mcdaniel Dr, West Chester, PA 19380', 'county': 'Chester', 'lastSalePrice': 105000, 'lastSaleDate': '1999-04-09T00:00:00.000Z', 'features': {}, 'id': '1506-Mcdaniel-Dr,-West-Chester,-PA-19380', 'longitude': -75.521141, 'latitude': 39.96714}, {'addressLine1': '4700 Plume Rd NW', 'city': 'Albuquerque', 'state': 'NM', 'zipCode': '87120', 'formattedAddress': '4700 Plume Rd NW, Albuquerque, NM 87120', 'bedrooms': 3, 'squareFootage': 2087, 'yearBuilt': 1989, 'county': 'Bernalillo', 'assessorID': '1-012-063-102-225-3-06-19', 'legalDescription': 'LOT 8 BLK 7 PRAIRIE RIDGE UNIT THREE (REPLAT OF RIVERVIEW PA RCEL H-26) CONT 5,793 SQ FT', 'subdivision': 'PRAIRIE RIDGE', 'ownerOccupied': True, 'bathrooms': 2.5, 'lotSize': 5793, 'propertyType': 'Single Family', 'features': {'floorCount': 2, 'roofType': 'Shingle', 'unitCount': 1}, 'taxAssessment': {'2022': {'value': 69233, 'land': 13526, 'improvements': 55707}}, 'propertyTaxes': {'2022': {'total': 2860}}, 'owner': {'names': ['DOLORES M GONZALES'], 'mailingAddress': {'id': '4700-Plume-Rd-NW,-Albuquerque,-NM-87120', 'addressLine1': '4700 Plume Rd NW', 'city': 'Albuquerque', 'state': 'NM', 'zipCode': '87120'}}, 'id': '4700-Plume-Rd-NW,-Albuquerque,-NM-87120', 'longitude': -106.688706, 'latitude': 35.16584}, {'addressLine1': '679 Stoney Brook Rd', 'city': 'Northfield', 'state': 'OH', 'zipCode': '44067', 'formattedAddress': '679 Stoney Brook Rd, Northfield, OH 44067', 'assessorID': '45-00692', 'bedrooms': 3, 'county': 'Summit', 'features': {'architectureType': 'Contemporary', 'cooling': True, 'coolingType': 'Central', 'exteriorType': 'Wood', 'fireplace': True, 'fireplaceType': 'Single', 'floorCount': 2, 'garage': True, 'garageSpaces': 2, 'garageType': 'Attached Garage', 'heating': True, 'heatingType': 'Central', 'roomCount': 7, 'unitCount': 1}, 'legalDescription': 'GREENWOOD VILLAGE OFSAGAMORE HILLS SUB DIV #1 LOT 25 ALL', 'ownerOccupied': True, 'squareFootage': 1868, 'subdivision': 'GREENWOOD VILLAGE OFSAGAMORE H', 'yearBuilt': 1987, 'bathrooms': 3, 'lotSize': 11205, 'propertyType': 'Single Family', 'taxAssessment': {'2019': {'value': 73930, 'land': 18860, 'improvements': 55070}}, 'propertyTaxes': {'2019': {'total': 4331}}, 'lastSalePrice': 209000, 'lastSaleDate': '2017-03-31T00:00:00.000Z', 'owner': {'names': ['NANCY A WOODRUF'], 'mailingAddress': {'id': '679-Stoney-Brook-Rd,-Northfield,-OH-44067', 'addressLine1': '679 Stoney Brook Rd', 'city': 'Northfield', 'state': 'OH', 'zipCode': '44067'}}, 'id': '679-Stoney-Brook-Rd,-Northfield,-OH-44067', 'longitude': -81.560836, 'latitude': 41.309828}, {'addressLine1': '1919 Mccormick St', 'city': 'Denton', 'state': 'TX', 'zipCode': '76205', 'formattedAddress': '1919 Mccormick St, Denton, TX 76205', 'bedrooms': 3, 'squareFootage': 1081, 'yearBuilt': 1978, 'county': 'Denton', 'assessorID': 'R25440', 'legalDescription': 'TAYLOR PARK ADDN BLK 3 LOT 28', 'subdivision': 'TAYLOR PARK ADDN', 'ownerOccupied': True, 'bathrooms': 1, 'lotSize': 7440, 'propertyType': 'Single Family', 'lastSaleDate': '2018-04-06T00:00:00.000Z', 'features': {'cooling': True, 'coolingType': 'Central', 'exteriorType': 'Brick Veneer', 'floorCount': 1, 'foundationType': 'Slab / Mat / Raft', 'garage': True, 'garageType': 'Attached', 'heating': True, 'heatingType': 'Central', 'roofType': 'Composition Shingle', 'unitCount': 1}, 'taxAssessment': {'2022': {'value': 249000, 'land': 55800, 'improvements': 193200}, '2023': {'value': 313618, 'land': 55800, 'improvements': 257818}}, 'propertyTaxes': {'2022': {'total': 3794}, '2023': {'total': 3128}}, 'owner': {'names': ['Sarah Nicole Cagle Fenderson', 'Douglas Graham Fenderson'], 'mailingAddress': {'id': '1919-Mccormick-St,-Denton,-TX-76205', 'formattedAddress': '1919 Mccormick St, Denton, TX 76205', 'addressLine1': '1919 Mccormick St', 'city': 'Denton', 'state': 'TX', 'zipCode': '76205'}, 'type': 'Individual'}, 'id': '1919-Mccormick-St,-Denton,-TX-76205', 'longitude': -97.146579, 'latitude': 33.195403}, {'county': 'Contra Costa', 'bedrooms': 5, 'bathrooms': 3, 'squareFootage': 1668, 'yearBuilt': 1957, 'lotSize': 6600, 'propertyType': 'Single Family', 'addressLine1': '1861 Toyon Dr', 'city': 'Concord', 'state': 'CA', 'zipCode': '94520', 'formattedAddress': '1861 Toyon Dr, Concord, CA 94520', 'lastSalePrice': 800000, 'lastSaleDate': '2024-04-23T00:00:00.000Z', 'assessorID': '126-164-008-8', 'legalDescription': 'TRACT 2207 40', 'subdivision': 'OAKMEAD DRIVE', 'zoning': 'R6', 'ownerOccupied': True, 'features': {'floorCount': 1, 'garage': True, 'garageType': 'Garage', 'heating': True, 'heatingType': 'Central', 'roomCount': 9, 'unitCount': 1}, 'taxAssessment': {'2023': {'value': 780300, 'land': 525300, 'improvements': 255000}, '2024': {'value': 795906, 'land': 535806, 'improvements': 260100}}, 'propertyTaxes': {'2023': {'total': 9550}}, 'owner': {'names': ['Kate Choy', 'Nicole Hill'], 'mailingAddress': {'id': '1861-Toyon-Dr,-Concord,-CA-94520', 'formattedAddress': '1861 Toyon Dr, Concord, CA 94520', 'addressLine1': '1861 Toyon Dr', 'city': 'Concord', 'state': 'CA', 'zipCode': '94520'}, 'type': 'Individual'}, 'id': '1861-Toyon-Dr,-Concord,-CA-94520', 'longitude': -122.034451, 'latitude': 37.969045}, {'bathrooms': 1, 'bedrooms': 1, 'squareFootage': 882, 'county': 'King', 'propertyType': 'Condo', 'addressLine1': '8000 28th Ave NW', 'addressLine2': 'Apt 220', 'city': 'Seattle', 'state': 'WA', 'zipCode': '98117', 'formattedAddress': '8000 28th Ave NW, Apt 220, Seattle, WA 98117', 'yearBuilt': 1976, 'assessorID': '026752-0020', 'legalDescription': 'ARIA CONDOMINIUM PERCENT OF VAL 9.10', 'subdivision': 'ARIA', 'zoning': 'LR2 RC', 'ownerOccupied': True, 'lotSize': 8151, 'lastSalePrice': 405000, 'lastSaleDate': '2021-12-17T00:00:00.000Z', 'features': {'architectureType': 'Condo / Apartment', 'fireplace': True, 'floorCount': 4, 'unitCount': 10, 'viewType': 'Average'}, 'taxAssessment': {'2022': {'value': 360000, 'land': 148300, 'improvements': 211700}}, 'propertyTaxes': {'2022': {'total': 3070}}, 'owner': {'names': ['Jennifer Ann Teehan'], 'mailingAddress': {'id': '8000-28th-Ave-NW,-APT-220,-Seattle,-WA-98117', 'formattedAddress': '8000 28th Ave NW, APT 220, Seattle, WA 98117', 'addressLine1': '8000 28th Ave NW', 'city': 'Seattle', 'state': 'WA', 'zipCode': '98117', 'addressLine2': 'APT 220'}}, 'id': '8000-28th-Ave-NW,-Apt-220,-Seattle,-WA-98117', 'longitude': -122.392689, 'latitude': 47.686956}]\n"
     ]
    }
   ],
   "source": [
    "import requests\n",
    "\n",
    "url = \"https://realty-mole-property-api.p.rapidapi.com/randomProperties\"\n",
    "\n",
    "querystring = {\"limit\":\"1000\"}\n",
    "\n",
    "headers = {\n",
    "\t\"x-rapidapi-key\": \"bc68487461mshca1d2214a6e1c46p1c3c47jsn5f4df3a84144\",\n",
    "\t\"x-rapidapi-host\": \"realty-mole-property-api.p.rapidapi.com\"\n",
    "}\n",
    "\n",
    "response = requests.get(url, headers=headers)\n",
    "\n",
    "print(response.json())\n",
    "\n",
    "\n",
    "data= response.json()\n",
    "\n",
    "#Saving into a file\n",
    "filename = \"PropertyRecords.json\"\n",
    "with open(filename,\"w\") as file:\n",
    "    json.dump(data,file,indent=4)\n"
   ]
  },
  {
   "cell_type": "code",
   "execution_count": 51,
   "id": "0e22613f-c370-49c1-861b-2f2466524ab1",
   "metadata": {
    "scrolled": true
   },
   "outputs": [],
   "source": [
    "#Read into a dataframe\n",
    "\n",
    "Propertyrecord_df = pd.read_json('PropertyRecords.json')"
   ]
  },
  {
   "cell_type": "code",
   "execution_count": 53,
   "id": "ef4f5390-496f-4f7d-9f60-b6f7d93c059d",
   "metadata": {},
   "outputs": [
    {
     "name": "stdout",
     "output_type": "stream",
     "text": [
      "<class 'pandas.core.frame.DataFrame'>\n",
      "RangeIndex: 10 entries, 0 to 9\n",
      "Data columns (total 27 columns):\n",
      " #   Column            Non-Null Count  Dtype  \n",
      "---  ------            --------------  -----  \n",
      " 0   bathrooms         8 non-null      float64\n",
      " 1   bedrooms          8 non-null      float64\n",
      " 2   squareFootage     8 non-null      float64\n",
      " 3   county            10 non-null     object \n",
      " 4   propertyType      8 non-null      object \n",
      " 5   addressLine1      10 non-null     object \n",
      " 6   city              10 non-null     object \n",
      " 7   state             10 non-null     object \n",
      " 8   zipCode           10 non-null     int64  \n",
      " 9   formattedAddress  10 non-null     object \n",
      " 10  lotSize           8 non-null      float64\n",
      " 11  yearBuilt         8 non-null      float64\n",
      " 12  features          10 non-null     object \n",
      " 13  assessorID        8 non-null      object \n",
      " 14  legalDescription  8 non-null      object \n",
      " 15  subdivision       8 non-null      object \n",
      " 16  zoning            5 non-null      object \n",
      " 17  taxAssessment     8 non-null      object \n",
      " 18  propertyTaxes     8 non-null      object \n",
      " 19  lastSalePrice     6 non-null      float64\n",
      " 20  lastSaleDate      8 non-null      object \n",
      " 21  ownerOccupied     8 non-null      float64\n",
      " 22  owner             8 non-null      object \n",
      " 23  id                10 non-null     object \n",
      " 24  longitude         10 non-null     float64\n",
      " 25  latitude          10 non-null     float64\n",
      " 26  addressLine2      1 non-null      object \n",
      "dtypes: float64(9), int64(1), object(17)\n",
      "memory usage: 2.2+ KB\n",
      "Index(['bathrooms', 'bedrooms', 'squareFootage', 'county', 'propertyType',\n",
      "       'addressLine1', 'city', 'state', 'zipCode', 'formattedAddress',\n",
      "       'lotSize', 'yearBuilt', 'features', 'assessorID', 'legalDescription',\n",
      "       'subdivision', 'zoning', 'taxAssessment', 'propertyTaxes',\n",
      "       'lastSalePrice', 'lastSaleDate', 'ownerOccupied', 'owner', 'id',\n",
      "       'longitude', 'latitude', 'addressLine2'],\n",
      "      dtype='object')\n"
     ]
    }
   ],
   "source": [
    "Propertyrecord_df.info()\n",
    "print(Propertyrecord_df.columns)\n"
   ]
  },
  {
   "cell_type": "code",
   "execution_count": 57,
   "id": "bd968081-9f0e-4ac3-8f9e-efe1c9bb4d26",
   "metadata": {},
   "outputs": [],
   "source": [
    "#Transformational \n",
    "\n",
    "#Convert columns with dictionary into string\n",
    "import json\n",
    "\n",
    "Propertyrecord_df['features']=Propertyrecord_df ['features'].apply(json.dumps)\n",
    "\n",
    "#fill missing nd NA values\n",
    "Propertyrecord_df.fillna(\n",
    "    {\n",
    "        'bathrooms': 0,\n",
    "        'bedrooms': 0,\n",
    "        'squareFootage': 0, \n",
    "        'county': \"Not Available\", \n",
    "        'propertyType': \"unknown\",\n",
    "        'addressLine1': \"unknown\",\n",
    "        'city': \"unknown\", \n",
    "        'state': \"unknown\", \n",
    "        'zipCode': \"unknown\", \n",
    "        'formattedAddress': \"Not Available\",\n",
    "        'yearBuilt': 0, \n",
    "        'features': \"unknown\", \n",
    "        'assessorID': \"unknown\", \n",
    "        'legalDescription': \"Not Available\",\n",
    "        'subdivision': \"Not Available\", \n",
    "        'ownerOccupied': 0, \n",
    "        'lotSize': 0, \n",
    "        'taxAssessment': \"Not Available\",\n",
    "        'propertyTaxes': \"Not Available\", \n",
    "        'lastSaleDate': \"Not Available\", \n",
    "        'lastSalePrice': 0, \n",
    "        'owner': \"unknown\", \n",
    "        'id': \"unknown\",\n",
    "        'longitude': \"unknown\", \n",
    "        'latitude': \"unknown\", \n",
    "        'zoning': \"unknown\", \n",
    "        'addressLine2': \"Not Available\"\n",
    "    },\n",
    "    inplace=True\n",
    ")\n"
   ]
  },
  {
   "cell_type": "code",
   "execution_count": 59,
   "id": "483b9708-7bbc-41eb-b138-d739545f5076",
   "metadata": {},
   "outputs": [
    {
     "name": "stdout",
     "output_type": "stream",
     "text": [
      "<class 'pandas.core.frame.DataFrame'>\n",
      "RangeIndex: 10 entries, 0 to 9\n",
      "Data columns (total 27 columns):\n",
      " #   Column            Non-Null Count  Dtype  \n",
      "---  ------            --------------  -----  \n",
      " 0   bathrooms         10 non-null     float64\n",
      " 1   bedrooms          10 non-null     float64\n",
      " 2   squareFootage     10 non-null     float64\n",
      " 3   county            10 non-null     object \n",
      " 4   propertyType      10 non-null     object \n",
      " 5   addressLine1      10 non-null     object \n",
      " 6   city              10 non-null     object \n",
      " 7   state             10 non-null     object \n",
      " 8   zipCode           10 non-null     int64  \n",
      " 9   formattedAddress  10 non-null     object \n",
      " 10  lotSize           10 non-null     float64\n",
      " 11  yearBuilt         10 non-null     float64\n",
      " 12  features          10 non-null     object \n",
      " 13  assessorID        10 non-null     object \n",
      " 14  legalDescription  10 non-null     object \n",
      " 15  subdivision       10 non-null     object \n",
      " 16  zoning            10 non-null     object \n",
      " 17  taxAssessment     10 non-null     object \n",
      " 18  propertyTaxes     10 non-null     object \n",
      " 19  lastSalePrice     10 non-null     float64\n",
      " 20  lastSaleDate      10 non-null     object \n",
      " 21  ownerOccupied     10 non-null     float64\n",
      " 22  owner             10 non-null     object \n",
      " 23  id                10 non-null     object \n",
      " 24  longitude         10 non-null     float64\n",
      " 25  latitude          10 non-null     float64\n",
      " 26  addressLine2      10 non-null     object \n",
      "dtypes: float64(9), int64(1), object(17)\n",
      "memory usage: 2.2+ KB\n",
      "None\n"
     ]
    }
   ],
   "source": [
    "print(Propertyrecord_df.info())"
   ]
  },
  {
   "cell_type": "code",
   "execution_count": 61,
   "id": "07c87900-fa72-4322-a119-895a63e5954e",
   "metadata": {},
   "outputs": [],
   "source": [
    "#create the FACT Table\n",
    "fact_columns =['addressLine1','city', 'state','zipCode', 'formattedAddress',  'squareFootage', 'yearBuilt', 'bathrooms', 'bedrooms', 'lotSize', 'propertyType',\n",
    "                'longitude', 'latitude']\n",
    "\n",
    "fact_table = Propertyrecord_df[fact_columns]\n",
    "\n",
    "#Create Location Dimension\n",
    "Location_dim= Propertyrecord_df[['addressLine1','city', 'state','zipCode','county','longitude', 'latitude']].drop_duplicates().reset_index(drop=True)\n",
    "Location_dim.index.name= 'location_id'"
   ]
  },
  {
   "cell_type": "code",
   "execution_count": 63,
   "id": "7a82f556-3b82-42d3-9df2-075186b082f2",
   "metadata": {},
   "outputs": [
    {
     "data": {
      "text/html": [
       "<div>\n",
       "<style scoped>\n",
       "    .dataframe tbody tr th:only-of-type {\n",
       "        vertical-align: middle;\n",
       "    }\n",
       "\n",
       "    .dataframe tbody tr th {\n",
       "        vertical-align: top;\n",
       "    }\n",
       "\n",
       "    .dataframe thead th {\n",
       "        text-align: right;\n",
       "    }\n",
       "</style>\n",
       "<table border=\"1\" class=\"dataframe\">\n",
       "  <thead>\n",
       "    <tr style=\"text-align: right;\">\n",
       "      <th></th>\n",
       "      <th>lastSalePrice</th>\n",
       "      <th>lastSaleDate</th>\n",
       "    </tr>\n",
       "    <tr>\n",
       "      <th>sales_id</th>\n",
       "      <th></th>\n",
       "      <th></th>\n",
       "    </tr>\n",
       "  </thead>\n",
       "  <tbody>\n",
       "    <tr>\n",
       "      <th>0</th>\n",
       "      <td>750000.0</td>\n",
       "      <td>2023-05-26T00:00:00.000Z</td>\n",
       "    </tr>\n",
       "    <tr>\n",
       "      <th>1</th>\n",
       "      <td>172000.0</td>\n",
       "      <td>2019-10-09T00:00:00.000Z</td>\n",
       "    </tr>\n",
       "    <tr>\n",
       "      <th>2</th>\n",
       "      <td>0.0</td>\n",
       "      <td>2019-12-12T00:00:00.000Z</td>\n",
       "    </tr>\n",
       "    <tr>\n",
       "      <th>3</th>\n",
       "      <td>0.0</td>\n",
       "      <td>Not Available</td>\n",
       "    </tr>\n",
       "    <tr>\n",
       "      <th>4</th>\n",
       "      <td>105000.0</td>\n",
       "      <td>1999-04-09T00:00:00.000Z</td>\n",
       "    </tr>\n",
       "  </tbody>\n",
       "</table>\n",
       "</div>"
      ],
      "text/plain": [
       "          lastSalePrice              lastSaleDate\n",
       "sales_id                                         \n",
       "0              750000.0  2023-05-26T00:00:00.000Z\n",
       "1              172000.0  2019-10-09T00:00:00.000Z\n",
       "2                   0.0  2019-12-12T00:00:00.000Z\n",
       "3                   0.0             Not Available\n",
       "4              105000.0  1999-04-09T00:00:00.000Z"
      ]
     },
     "execution_count": 63,
     "metadata": {},
     "output_type": "execute_result"
    }
   ],
   "source": [
    "#Create Sales Dimension\n",
    "\n",
    "sales_dim = Propertyrecord_df[['lastSalePrice','lastSaleDate']].drop_duplicates().reset_index(drop=True)\n",
    "sales_dim.index.name= 'sales_id'\n",
    "sales_dim.head()"
   ]
  },
  {
   "cell_type": "code",
   "execution_count": 65,
   "id": "188d3bb3-4ae5-4ddc-8ab9-ebae9a5b7c50",
   "metadata": {
    "scrolled": true
   },
   "outputs": [
    {
     "data": {
      "text/html": [
       "<div>\n",
       "<style scoped>\n",
       "    .dataframe tbody tr th:only-of-type {\n",
       "        vertical-align: middle;\n",
       "    }\n",
       "\n",
       "    .dataframe tbody tr th {\n",
       "        vertical-align: top;\n",
       "    }\n",
       "\n",
       "    .dataframe thead th {\n",
       "        text-align: right;\n",
       "    }\n",
       "</style>\n",
       "<table border=\"1\" class=\"dataframe\">\n",
       "  <thead>\n",
       "    <tr style=\"text-align: right;\">\n",
       "      <th></th>\n",
       "      <th>features</th>\n",
       "      <th>propertyType</th>\n",
       "      <th>zoning</th>\n",
       "    </tr>\n",
       "    <tr>\n",
       "      <th>features_id</th>\n",
       "      <th></th>\n",
       "      <th></th>\n",
       "      <th></th>\n",
       "    </tr>\n",
       "  </thead>\n",
       "  <tbody>\n",
       "    <tr>\n",
       "      <th>0</th>\n",
       "      <td>{\"architectureType\": \"Colonial\", \"cooling\": tr...</td>\n",
       "      <td>Land</td>\n",
       "      <td>ARE2</td>\n",
       "    </tr>\n",
       "    <tr>\n",
       "      <th>1</th>\n",
       "      <td>{\"architectureType\": \"Split Foyer\", \"exteriorT...</td>\n",
       "      <td>Single Family</td>\n",
       "      <td>R-1</td>\n",
       "    </tr>\n",
       "    <tr>\n",
       "      <th>2</th>\n",
       "      <td>{\"architectureType\": \"Ranch\", \"fireplace\": tru...</td>\n",
       "      <td>Single Family</td>\n",
       "      <td>INC</td>\n",
       "    </tr>\n",
       "    <tr>\n",
       "      <th>3</th>\n",
       "      <td>{}</td>\n",
       "      <td>unknown</td>\n",
       "      <td>unknown</td>\n",
       "    </tr>\n",
       "    <tr>\n",
       "      <th>4</th>\n",
       "      <td>{\"floorCount\": 2, \"roofType\": \"Shingle\", \"unit...</td>\n",
       "      <td>Single Family</td>\n",
       "      <td>unknown</td>\n",
       "    </tr>\n",
       "  </tbody>\n",
       "</table>\n",
       "</div>"
      ],
      "text/plain": [
       "                                                      features   propertyType  \\\n",
       "features_id                                                                     \n",
       "0            {\"architectureType\": \"Colonial\", \"cooling\": tr...           Land   \n",
       "1            {\"architectureType\": \"Split Foyer\", \"exteriorT...  Single Family   \n",
       "2            {\"architectureType\": \"Ranch\", \"fireplace\": tru...  Single Family   \n",
       "3                                                           {}        unknown   \n",
       "4            {\"floorCount\": 2, \"roofType\": \"Shingle\", \"unit...  Single Family   \n",
       "\n",
       "              zoning  \n",
       "features_id           \n",
       "0               ARE2  \n",
       "1                R-1  \n",
       "2                INC  \n",
       "3            unknown  \n",
       "4            unknown  "
      ]
     },
     "execution_count": 65,
     "metadata": {},
     "output_type": "execute_result"
    }
   ],
   "source": [
    "#Create Property Features Dimension\n",
    "features_dim = Propertyrecord_df[['features', 'propertyType', 'zoning']].drop_duplicates().reset_index(drop=True)\n",
    "features_dim.index.name ='features_id'\n",
    "features_dim.head()\n"
   ]
  },
  {
   "cell_type": "code",
   "execution_count": 29,
   "id": "dabc1c42-6094-4350-a5f6-a9e1b35f8711",
   "metadata": {
    "jupyter": {
     "source_hidden": true
    }
   },
   "outputs": [],
   "source": [
    "\n",
    "#Output to csv\n",
    "fact_table.to_csv('property_fact.csv', index=False)\n",
    "Location_dim.to_csv('Location_dimension.csv', index=True)\n",
    "sales_dim.to_csv('sales_dimension.csv', index=True)\n",
    "features_dim.to_csv('features_dimension.csv', index=True)"
   ]
  },
  {
   "cell_type": "code",
   "execution_count": 67,
   "id": "0dd86273-1da1-416b-a554-7d199b74e18f",
   "metadata": {},
   "outputs": [],
   "source": [
    "  #Loading Layer\n",
    "\n",
    "# develop a function to connect to pgadmin\n",
    "\n",
    "def get_db_connection():\n",
    "    connection = psycopg2.connect(\n",
    "        host= 'localhost',\n",
    "        database='postgres',\n",
    "        user='postgres',\n",
    "        password='shakirat12'\n",
    "    )\n",
    "    return connection\n",
    "\n",
    "conn = get_db_connection()\n"
   ]
  },
  {
   "cell_type": "code",
   "execution_count": 87,
   "id": "e029d033-a55c-4bde-b36d-b7d7787d332d",
   "metadata": {},
   "outputs": [],
   "source": [
    "#creating tables\n",
    "\n",
    "\n",
    "def create_tables():\n",
    "    conn = get_db_connection()\n",
    "    cursor = conn.cursor()\n",
    "    create_table_query='''CREATE SCHEMA IF NOT EXISTS zapbank;\n",
    "\n",
    "                            DROP TABLE IF EXISTS zapbank.fact_table;\n",
    "                            DROP TABLE IF EXISTS zapbank.location_dim;\n",
    "                            DROP TABLE IF EXISTS zapbank.sales_dim;\n",
    "                            DROP TABLE IF EXISTS zapbank.features_dim;\n",
    "\n",
    "                            CREATE TABLE zapbank.fact_table(\n",
    "                                addressline1 VARCHAR(255),\n",
    "                                city VARCHAR(100),\n",
    "                                state VARCHAR(50),\n",
    "                                zipCode INTEGER,\n",
    "                                formattedAddress VARCHAR(255),\n",
    "                                squareFootage FLOAT,\n",
    "                                yearBuilt FLOAT,\n",
    "                                bathrooms FLOAT,\n",
    "                                bedrooms FLOAT,\n",
    "                                lotSize FLOAT,\n",
    "                                propertyType VARCHAR(255),\n",
    "                                longitude FLOAT,\n",
    "                                latitude FLOAT\n",
    "                                );\n",
    "\n",
    "                                CREATE TABLE zapbank.location_dim(\n",
    "                                    location_id SERIAL PRIMARY KEY,\n",
    "                                    addressLine1 VARCHAR(255),\n",
    "                                    city VARCHAR(100),\n",
    "                                    state VARCHAR (50),\n",
    "                                    zipCode INTEGER,\n",
    "                                    county VARCHAR(100),\n",
    "                                    longitude FLOAT,\n",
    "                                    latitude FLOAT\n",
    "                                    );\n",
    "\n",
    "                                CREATE TABLE zapbank.sales_dim(\n",
    "                                   sales_id SERIAL PRIMARY KEY,\n",
    "                                   lastSalePrice FLOAT,\n",
    "                                   lastSaleDate DATE\n",
    "                                   );\n",
    "\n",
    "                                CREATE TABLE zapbank.features_dim(\n",
    "                                    features_id SERIAL PRIMARY KEY,\n",
    "                                    features TEXT,\n",
    "                                    propertyType VARCHAR(255),\n",
    "                                    zoning VARCHAR(255)\n",
    "                                     );'''\n",
    "    cursor.execute(create_table_query)\n",
    "    conn.commit()\n",
    "    cursor.close()\n",
    "    conn.close()\n",
    "create_tables()\n",
    "\n",
    " \n"
   ]
  },
  {
   "cell_type": "code",
   "execution_count": 89,
   "id": "e2f4f7a4-6330-4efa-a483-0bcdc896fd67",
   "metadata": {},
   "outputs": [],
   "source": [
    "#Create a funcion to load csv data from a folder into the DB\n",
    "def load_data_from_csv_to_table(csv_path,table_name):\n",
    "    conn= get_db_connection()\n",
    "    cursor = conn.cursor()\n",
    "    with open(csv_path,'r',encoding='utf-8') as file:\n",
    "        reader=csv.reader(file)\n",
    "        next(reader) #Skip the header row\n",
    "        for row in reader:\n",
    "            placeholders = ', '.join(['%s']* len(row))\n",
    "            query = f\"INSERT INTO {table_name} VALUES ({placeholders});\"\n",
    "            cursor.execute(query,row)\n",
    "        conn.commit()\n",
    "        cursor.close()\n",
    "        conn.close()\n",
    "\n"
   ]
  },
  {
   "cell_type": "code",
   "execution_count": 91,
   "id": "2f0a4bcf-0360-4a61-b54d-4547aa233494",
   "metadata": {},
   "outputs": [],
   "source": [
    "# for fact table\n",
    "fact_csv_path = r'C:\\Users\\HP\\Documents\\Data Engineering Projects\\property_fact.csv'\n",
    "load_data_from_csv_to_table(fact_csv_path, 'zapbank.fact_table')"
   ]
  },
  {
   "cell_type": "code",
   "execution_count": 93,
   "id": "de8de237-8368-46e8-af9c-4ffec2dc7ade",
   "metadata": {},
   "outputs": [],
   "source": [
    "# for Location dimension table\n",
    "location_csv_path = r'C:\\Users\\HP\\Documents\\Data Engineering Projects\\Location_dimension.csv'\n",
    "load_data_from_csv_to_table(location_csv_path, 'zapbank.location_dim')"
   ]
  },
  {
   "cell_type": "code",
   "execution_count": 97,
   "id": "7ccebdf6-7121-4a7b-a6cc-73991e615822",
   "metadata": {},
   "outputs": [],
   "source": [
    "# for features dimension table\n",
    "features_csv_path = r'C:\\Users\\HP\\Documents\\Data Engineering Projects\\features_dimension.csv'\n",
    "load_data_from_csv_to_table(features_csv_path, 'zapbank.features_dim')"
   ]
  },
  {
   "cell_type": "code",
   "execution_count": null,
   "id": "b8048dcd-7e5a-40ad-9246-ec14ae784f00",
   "metadata": {},
   "outputs": [],
   "source": [
    "\n"
   ]
  },
  {
   "cell_type": "code",
   "execution_count": 121,
   "id": "c18634a7-7c54-423a-8c31-a4b4f6d003da",
   "metadata": {},
   "outputs": [],
   "source": [
    " #Create a New funcion to load csv data for sales  from a folder into the DB\n",
    "def load_data_from_csv_to_sales_table(csv_path,table_name):\n",
    "    conn= get_db_connection()\n",
    "    cursor = conn.cursor()\n",
    "    with open(csv_path,'r',encoding='utf-8') as file:\n",
    "        reader=csv.reader(file)\n",
    "        next(reader) #Skip the header row\n",
    "        for row in reader:\n",
    "            #convert empty strings (or Not available) in date column to None (NULL in sql)\n",
    "            row=[None if (cell == '' or cell =='Not Available') and col_name == 'lastSaleDate' else cell for cell, col_name in zip(row, sales_dim_columns)]\n",
    "            placeholders = ', '.join(['%s']* len(row))\n",
    "            query = f\"INSERT INTO {table_name} VALUES ({placeholders});\"\n",
    "            cursor.execute(query,row)\n",
    "        conn.commit()\n",
    "        cursor.close()\n",
    "        conn.close()\n",
    "\n",
    "#define the columns names in sales_dim table\n",
    "sales_dim_columns = ['sales_id','lastSalePrice', 'lastSaleDate']\n",
    "\n"
   ]
  },
  {
   "cell_type": "code",
   "execution_count": 125,
   "id": "b934bbe7-bdb1-4583-863f-9eafd8893e8e",
   "metadata": {},
   "outputs": [
    {
     "ename": "UniqueViolation",
     "evalue": "duplicate key value violates unique constraint \"sales_dim_pkey\"\nDETAIL:  Key (sales_id)=(0) already exists.\n",
     "output_type": "error",
     "traceback": [
      "\u001b[1;31m---------------------------------------------------------------------------\u001b[0m",
      "\u001b[1;31mUniqueViolation\u001b[0m                           Traceback (most recent call last)",
      "Cell \u001b[1;32mIn[125], line 3\u001b[0m\n\u001b[0;32m      1\u001b[0m \u001b[38;5;66;03m# for sales dimension table\u001b[39;00m\n\u001b[0;32m      2\u001b[0m sales_csv_path \u001b[38;5;241m=\u001b[39m \u001b[38;5;124mr\u001b[39m\u001b[38;5;124m'\u001b[39m\u001b[38;5;124mC:\u001b[39m\u001b[38;5;124m\\\u001b[39m\u001b[38;5;124mUsers\u001b[39m\u001b[38;5;124m\\\u001b[39m\u001b[38;5;124mHP\u001b[39m\u001b[38;5;124m\\\u001b[39m\u001b[38;5;124mDocuments\u001b[39m\u001b[38;5;124m\\\u001b[39m\u001b[38;5;124mData Engineering Projects\u001b[39m\u001b[38;5;124m\\\u001b[39m\u001b[38;5;124msales_dimension.csv\u001b[39m\u001b[38;5;124m'\u001b[39m\n\u001b[1;32m----> 3\u001b[0m load_data_from_csv_to_sales_table(sales_csv_path, \u001b[38;5;124m'\u001b[39m\u001b[38;5;124mzapbank.sales_dim\u001b[39m\u001b[38;5;124m'\u001b[39m)\n",
      "Cell \u001b[1;32mIn[121], line 13\u001b[0m, in \u001b[0;36mload_data_from_csv_to_sales_table\u001b[1;34m(csv_path, table_name)\u001b[0m\n\u001b[0;32m     11\u001b[0m     placeholders \u001b[38;5;241m=\u001b[39m \u001b[38;5;124m'\u001b[39m\u001b[38;5;124m, \u001b[39m\u001b[38;5;124m'\u001b[39m\u001b[38;5;241m.\u001b[39mjoin([\u001b[38;5;124m'\u001b[39m\u001b[38;5;132;01m%s\u001b[39;00m\u001b[38;5;124m'\u001b[39m]\u001b[38;5;241m*\u001b[39m \u001b[38;5;28mlen\u001b[39m(row))\n\u001b[0;32m     12\u001b[0m     query \u001b[38;5;241m=\u001b[39m \u001b[38;5;124mf\u001b[39m\u001b[38;5;124m\"\u001b[39m\u001b[38;5;124mINSERT INTO \u001b[39m\u001b[38;5;132;01m{\u001b[39;00mtable_name\u001b[38;5;132;01m}\u001b[39;00m\u001b[38;5;124m VALUES (\u001b[39m\u001b[38;5;132;01m{\u001b[39;00mplaceholders\u001b[38;5;132;01m}\u001b[39;00m\u001b[38;5;124m);\u001b[39m\u001b[38;5;124m\"\u001b[39m\n\u001b[1;32m---> 13\u001b[0m     cursor\u001b[38;5;241m.\u001b[39mexecute(query,row)\n\u001b[0;32m     14\u001b[0m conn\u001b[38;5;241m.\u001b[39mcommit()\n\u001b[0;32m     15\u001b[0m cursor\u001b[38;5;241m.\u001b[39mclose()\n",
      "\u001b[1;31mUniqueViolation\u001b[0m: duplicate key value violates unique constraint \"sales_dim_pkey\"\nDETAIL:  Key (sales_id)=(0) already exists.\n"
     ]
    }
   ],
   "source": [
    "# for sales dimension table\n",
    "sales_csv_path = r'C:\\Users\\HP\\Documents\\Data Engineering Projects\\sales_dimension.csv'\n",
    "load_data_from_csv_to_sales_table(sales_csv_path, 'zapbank.sales_dim')"
   ]
  },
  {
   "cell_type": "code",
   "execution_count": 127,
   "id": "d5521c9c-ba6e-4e3c-8a66-766fa0250232",
   "metadata": {
    "collapsed": true,
    "jupyter": {
     "outputs_hidden": true
    }
   },
   "outputs": [
    {
     "name": "stdout",
     "output_type": "stream",
     "text": [
      "All data has been loaded successfully into their respective schema and table\n"
     ]
    }
   ],
   "source": [
    "print('All data has been loaded successfully into their respective schema and table')"
   ]
  },
  {
   "cell_type": "code",
   "execution_count": null,
   "id": "292f2ee2-164b-4128-917a-bedf96ed2be9",
   "metadata": {},
   "outputs": [],
   "source": []
  }
 ],
 "metadata": {
  "kernelspec": {
   "display_name": "Python [conda env:base] *",
   "language": "python",
   "name": "conda-base-py"
  },
  "language_info": {
   "codemirror_mode": {
    "name": "ipython",
    "version": 3
   },
   "file_extension": ".py",
   "mimetype": "text/x-python",
   "name": "python",
   "nbconvert_exporter": "python",
   "pygments_lexer": "ipython3",
   "version": "3.12.7"
  }
 },
 "nbformat": 4,
 "nbformat_minor": 5
}
